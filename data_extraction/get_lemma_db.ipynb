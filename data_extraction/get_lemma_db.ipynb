{
 "cells": [
  {
   "cell_type": "markdown",
   "id": "e3b8c53a",
   "metadata": {},
   "source": [
    "# Objective: get a dict from the Samer Lexicon for quick lookups."
   ]
  },
  {
   "cell_type": "code",
   "execution_count": 1,
   "id": "3f5c0a2f",
   "metadata": {},
   "outputs": [],
   "source": [
    "import pandas as pd\n",
    "from pathlib import Path"
   ]
  },
  {
   "cell_type": "code",
   "execution_count": 2,
   "id": "97a914d5",
   "metadata": {},
   "outputs": [],
   "source": []
  },
  {
   "cell_type": "markdown",
   "id": "5eb4152b",
   "metadata": {},
   "source": [
    "# Setup Data"
   ]
  },
  {
   "cell_type": "code",
   "execution_count": 3,
   "id": "969f9739",
   "metadata": {},
   "outputs": [],
   "source": [
    "samer = pd.read_csv('../lexicon/data/SAMER-Readability-Lexicon.tsv',sep='\\t')\n",
    "samer = pd.read_csv('samer-readability-lexicon/SAMER-Readability-Lexicon.tsv',sep='\\t')\n",
    "samer[[\"lemma\", \"pos\"]] = samer['lemma#pos'].str.split(\"#\", expand = True)\n",
    "lemmas = samer[['lemma', 'pos', 'readability (rounded average)']]"
   ]
  },
  {
   "cell_type": "code",
   "execution_count": 6,
   "id": "20e06649",
   "metadata": {},
   "outputs": [
    {
     "data": {
      "text/html": [
       "<div>\n",
       "<style scoped>\n",
       "    .dataframe tbody tr th:only-of-type {\n",
       "        vertical-align: middle;\n",
       "    }\n",
       "\n",
       "    .dataframe tbody tr th {\n",
       "        vertical-align: top;\n",
       "    }\n",
       "\n",
       "    .dataframe thead th {\n",
       "        text-align: right;\n",
       "    }\n",
       "</style>\n",
       "<table border=\"1\" class=\"dataframe\">\n",
       "  <thead>\n",
       "    <tr style=\"text-align: right;\">\n",
       "      <th></th>\n",
       "      <th>Unnamed: 0</th>\n",
       "      <th>lemma</th>\n",
       "      <th>pos</th>\n",
       "      <th>readability (rounded average)</th>\n",
       "    </tr>\n",
       "  </thead>\n",
       "  <tbody>\n",
       "    <tr>\n",
       "      <th>0</th>\n",
       "      <td>0</td>\n",
       "      <td>فِي</td>\n",
       "      <td>prep</td>\n",
       "      <td>1</td>\n",
       "    </tr>\n",
       "    <tr>\n",
       "      <th>1</th>\n",
       "      <td>1</td>\n",
       "      <td>مِن</td>\n",
       "      <td>prep</td>\n",
       "      <td>1</td>\n",
       "    </tr>\n",
       "    <tr>\n",
       "      <th>2</th>\n",
       "      <td>2</td>\n",
       "      <td>أَنَّ</td>\n",
       "      <td>conj_sub</td>\n",
       "      <td>2</td>\n",
       "    </tr>\n",
       "    <tr>\n",
       "      <th>3</th>\n",
       "      <td>3</td>\n",
       "      <td>عَلَى</td>\n",
       "      <td>prep</td>\n",
       "      <td>1</td>\n",
       "    </tr>\n",
       "    <tr>\n",
       "      <th>4</th>\n",
       "      <td>4</td>\n",
       "      <td>إِلَى</td>\n",
       "      <td>prep</td>\n",
       "      <td>1</td>\n",
       "    </tr>\n",
       "    <tr>\n",
       "      <th>...</th>\n",
       "      <td>...</td>\n",
       "      <td>...</td>\n",
       "      <td>...</td>\n",
       "      <td>...</td>\n",
       "    </tr>\n",
       "    <tr>\n",
       "      <th>26573</th>\n",
       "      <td>26573</td>\n",
       "      <td>وَفَّد</td>\n",
       "      <td>verb</td>\n",
       "      <td>5</td>\n",
       "    </tr>\n",
       "    <tr>\n",
       "      <th>26574</th>\n",
       "      <td>26574</td>\n",
       "      <td>وَقْفِيَّة</td>\n",
       "      <td>noun</td>\n",
       "      <td>5</td>\n",
       "    </tr>\n",
       "    <tr>\n",
       "      <th>26575</th>\n",
       "      <td>26575</td>\n",
       "      <td>وَلَّه</td>\n",
       "      <td>verb</td>\n",
       "      <td>5</td>\n",
       "    </tr>\n",
       "    <tr>\n",
       "      <th>26576</th>\n",
       "      <td>26576</td>\n",
       "      <td>وَهَّل</td>\n",
       "      <td>verb</td>\n",
       "      <td>5</td>\n",
       "    </tr>\n",
       "    <tr>\n",
       "      <th>26577</th>\n",
       "      <td>26577</td>\n",
       "      <td>يَوَّد</td>\n",
       "      <td>verb</td>\n",
       "      <td>5</td>\n",
       "    </tr>\n",
       "  </tbody>\n",
       "</table>\n",
       "<p>26578 rows × 4 columns</p>\n",
       "</div>"
      ],
      "text/plain": [
       "       Unnamed: 0       lemma       pos  readability (rounded average)\n",
       "0               0         فِي      prep                              1\n",
       "1               1         مِن      prep                              1\n",
       "2               2       أَنَّ  conj_sub                              2\n",
       "3               3       عَلَى      prep                              1\n",
       "4               4       إِلَى      prep                              1\n",
       "...           ...         ...       ...                            ...\n",
       "26573       26573      وَفَّد      verb                              5\n",
       "26574       26574  وَقْفِيَّة      noun                              5\n",
       "26575       26575      وَلَّه      verb                              5\n",
       "26576       26576      وَهَّل      verb                              5\n",
       "26577       26577      يَوَّد      verb                              5\n",
       "\n",
       "[26578 rows x 4 columns]"
      ]
     },
     "execution_count": 6,
     "metadata": {},
     "output_type": "execute_result"
    }
   ],
   "source": [
    "lemmas"
   ]
  },
  {
   "cell_type": "code",
   "execution_count": 5,
   "id": "942a3192",
   "metadata": {},
   "outputs": [
    {
     "data": {
      "text/plain": [
       "noun             14123\n",
       "verb              6969\n",
       "adj               5022\n",
       "adj_comp           193\n",
       "noun_num            36\n",
       "adv                 29\n",
       "noun_quant          27\n",
       "adj_num             23\n",
       "conj_sub            19\n",
       "prep                15\n",
       "pron_dem            15\n",
       "pron                13\n",
       "adv_rel             13\n",
       "interj              12\n",
       "conj                11\n",
       "part                10\n",
       "pron_rel             9\n",
       "verb_pseudo          8\n",
       "part_neg             6\n",
       "adv_interrog         6\n",
       "pron_interrog        5\n",
       "part_voc             5\n",
       "part_restrict        2\n",
       "part_interrog        2\n",
       "part_focus           1\n",
       "part_verb            1\n",
       "part_fut             1\n",
       "part_det             1\n",
       "pron_exclam          1\n",
       "Name: pos, dtype: int64"
      ]
     },
     "execution_count": 5,
     "metadata": {},
     "output_type": "execute_result"
    }
   ],
   "source": [
    "lemmas['pos'].value_counts()"
   ]
  },
  {
   "cell_type": "markdown",
   "id": "1fabec74",
   "metadata": {},
   "source": [
    "### Setup Lemma Dict: this is to speed up the lookup of a level"
   ]
  },
  {
   "cell_type": "code",
   "execution_count": 53,
   "id": "983e5c60",
   "metadata": {},
   "outputs": [],
   "source": [
    "lemmas_dict = {}\n",
    "def add_lemma(row):\n",
    "    try:\n",
    "        lemmas_dict[row['lemma']].append(\n",
    "            {\n",
    "                'pos': row['pos'],\n",
    "                'level': row['readability (rounded average)']\n",
    "            }\n",
    "        )\n",
    "    except:\n",
    "        lemmas_dict[row['lemma']] = [\n",
    "            {\n",
    "                'pos': row['pos'],\n",
    "                'level': row['readability (rounded average)']\n",
    "            }\n",
    "        ]\n",
    "\n",
    "_ = lemmas.apply(lambda row: add_lemma(row), axis=1)\n",
    "\n",
    "import pickle\n",
    "with open('../data/lemma_db/quick_lemma_lookup.pkl', 'wb') as f:\n",
    "    pickle.dump(lemmas_dict, f)"
   ]
  }
 ],
 "metadata": {
  "kernelspec": {
   "display_name": "Python 3 (ipykernel)",
   "language": "python",
   "name": "python3"
  },
  "language_info": {
   "codemirror_mode": {
    "name": "ipython",
    "version": 3
   },
   "file_extension": ".py",
   "mimetype": "text/x-python",
   "name": "python",
   "nbconvert_exporter": "python",
   "pygments_lexer": "ipython3",
   "version": "3.9.12"
  }
 },
 "nbformat": 4,
 "nbformat_minor": 5
}
