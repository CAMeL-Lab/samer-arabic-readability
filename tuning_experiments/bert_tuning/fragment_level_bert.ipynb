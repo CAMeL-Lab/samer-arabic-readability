{
  "cells": [
    {
      "cell_type": "markdown",
      "metadata": {},
      "source": [
        "### Objective: transfer learning with pooled output\n",
        "Try fragment level classification on all three variants of CamelBERT (ca, msa, mix)"
      ]
    },
    {
      "cell_type": "code",
      "execution_count": null,
      "metadata": {
        "colab": {
          "base_uri": "https://localhost:8080/"
        },
        "id": "hBP8r7yMr8T9",
        "outputId": "7371b70b-d890-4d7b-f836-c2c51bcd89c3"
      },
      "outputs": [],
      "source": [
        "\n",
        "import pandas as pd\n",
        "from transformers import AutoModel, AutoTokenizer\n",
        "import numpy as np\n",
        "import torch\n",
        "import torch.nn as nn\n",
        "from sklearn.metrics import classification_report\n",
        "from sklearn.utils.class_weight import compute_class_weight\n",
        "import pytorch_lightning as pl\n",
        "from torch.utils.data import DataLoader, TensorDataset\n",
        "import math\n",
        "from torch.optim.lr_scheduler import ReduceLROnPlateau\n",
        "from pytorch_lightning.callbacks import EarlyStopping\n",
        "early_stopping = EarlyStopping(monitor='val_loss', patience=8, verbose=True, mode='min')\n",
        "import torch.nn.functional as F\n",
        "import matplotlib.pyplot as plt\n",
        "from tqdm import tqdm\n",
        "from sklearn.decomposition import PCA"
      ]
    },
    {
      "cell_type": "markdown",
      "metadata": {
        "id": "pW2aQoX3spxd"
      },
      "source": [
        "### Data, CAMEL BERT setup"
      ]
    },
    {
      "cell_type": "code",
      "execution_count": null,
      "metadata": {
        "id": "uPGyyCIgsq8-"
      },
      "outputs": [],
      "source": [
        "base_path = '../../data/'\n",
        "\n",
        "dev_levelled = pd.read_csv(base_path + 'dev_levelled.csv')\n",
        "\n",
        "train_levelled = pd.read_csv(base_path + 'train_levelled.csv')\n",
        "\n",
        "test_levelled = pd.read_csv(base_path + 'test_levelled.csv')\n",
        "\n",
        "dev_levelled = dev_levelled[dev_levelled.apply(lambda x: type(x['text']) == str, axis = 1)]\n",
        "train_levelled = train_levelled[train_levelled.apply(lambda x: type(x['text']) == str, axis = 1)]\n",
        "test_levelled = test_levelled[test_levelled.apply(lambda x: type(x['text']) == str, axis = 1)]\n",
        "\n",
        "\n",
        "camelbert_msa = 'CAMeL-Lab/bert-base-arabic-camelbert-msa'\n",
        "camelbert_ca = 'CAMeL-Lab/bert-base-arabic-camelbert-ca'\n",
        "camelbert_mix = 'CAMeL-Lab/bert-base-arabic-camelbert-mix'"
      ]
    },
    {
      "cell_type": "markdown",
      "metadata": {
        "id": "5AcLwwb8vKzY"
      },
      "source": [
        "#### Normalize Levels, Dataloader Function"
      ]
    },
    {
      "cell_type": "code",
      "execution_count": null,
      "metadata": {
        "id": "SHSfNa-yvM-Y"
      },
      "outputs": [],
      "source": [
        "train_levelled['level_norm'] = train_levelled.apply(lambda row: row['level'] - 3, axis = 1)\n",
        "test_levelled['level_norm'] = test_levelled.apply(lambda row: row['level'] - 3, axis = 1)\n",
        "dev_levelled['level_norm'] = dev_levelled.apply(lambda row: row['level'] - 3, axis = 1)"
      ]
    },
    {
      "cell_type": "code",
      "execution_count": null,
      "metadata": {
        "id": "76De4F5Esv5O"
      },
      "outputs": [],
      "source": [
        "def get_all_dataloaders(train, test, dev, tokenizer):\n",
        "  batch_size = 32\n",
        "\n",
        "  train_text, train_labels = train['text'], train['level_norm']\n",
        "  test_text, test_labels = test['text'], test['level_norm']\n",
        "  dev_text, dev_labels = dev['text'], dev['level_norm']\n",
        "  tokens_train = tokenizer.batch_encode_plus(\n",
        "      train_text.tolist(), max_length = 20, pad_to_max_length=True, truncation=True\n",
        "  )\n",
        "  tokens_test = tokenizer.batch_encode_plus(\n",
        "      test_text.tolist(), max_length = 20, pad_to_max_length=True, truncation=True\n",
        "  )\n",
        "  tokens_dev = tokenizer.batch_encode_plus(\n",
        "      dev_text.tolist(), max_length = 20, pad_to_max_length=True, truncation=True\n",
        "  )\n",
        "  train_seq = torch.tensor(tokens_train['input_ids'])\n",
        "  train_mask = torch.tensor(tokens_train['attention_mask'])\n",
        "  train_y = torch.tensor(train_labels.tolist())\n",
        "\n",
        "  dev_seq = torch.tensor(tokens_dev['input_ids'])\n",
        "  dev_mask = torch.tensor(tokens_dev['attention_mask'])\n",
        "  dev_y = torch.tensor(dev_labels.tolist())\n",
        "\n",
        "  test_seq = torch.tensor(tokens_test['input_ids'])\n",
        "  test_mask = torch.tensor(tokens_test['attention_mask'])\n",
        "  test_y = torch.tensor(test_labels.tolist())\n",
        "\n",
        "  class_weights = compute_class_weight(class_weight = 'balanced', classes = np.unique(train_labels), y = train_labels)\n",
        "  weights = torch.tensor(class_weights,dtype=torch.float)\n",
        "\n",
        "  train_data = TensorDataset(train_seq, train_mask, train_y)\n",
        "  dev_data = TensorDataset(dev_seq, dev_mask, dev_y)\n",
        "  test_data = TensorDataset(test_seq, test_mask, test_y)\n",
        "\n",
        "  train_loader = DataLoader(train_data, batch_size=batch_size, shuffle=True, num_workers=2)\n",
        "  dev_loader = DataLoader(dev_data, batch_size=batch_size, shuffle=False, num_workers=2)\n",
        "  test_loader = DataLoader(test_data, batch_size=batch_size, shuffle=False, num_workers=2)\n",
        "\n",
        "  return train_loader, dev_loader, test_loader, weights"
      ]
    },
    {
      "cell_type": "markdown",
      "metadata": {
        "id": "PiFwJzpsxyV7"
      },
      "source": [
        "### Experimental setup"
      ]
    },
    {
      "cell_type": "markdown",
      "metadata": {
        "id": "Xg4AF0Mdx3bg"
      },
      "source": [
        "#### Model Architecture (pooler)"
      ]
    },
    {
      "cell_type": "code",
      "execution_count": null,
      "metadata": {
        "id": "jRrNbN-mx58f"
      },
      "outputs": [],
      "source": [
        "class SimplerReadabilityBertModel(pl.LightningModule):\n",
        "  def __init__(self, bert, class_weights, lr = 1e-7):\n",
        "    super(SimplerReadabilityBertModel, self).__init__()\n",
        "    self.bert = bert\n",
        "    self.layer_1 = torch.nn.Linear(768, 3)\n",
        "    self.activation = nn.LogSoftmax(dim=1)\n",
        "\n",
        "    self.lossFn = nn.NLLLoss(weight = class_weights)\n",
        "    self.lr = lr\n",
        "\n",
        "    self.all_pred = []\n",
        "    self.all_gt = []\n",
        "    self.all_train_loss = []\n",
        "    self.all_dev_loss = []\n",
        "    self.initialize_weights()\n",
        "\n",
        "  def forward(self, tokens, mask):\n",
        "    bert_output = self.bert(tokens, attention_mask = mask)\n",
        "    x = self.layer_1(bert_output.pooler_output)\n",
        "    x = self.activation(x)\n",
        "\n",
        "    return x\n",
        "\n",
        "  def loss(self, probs, labels):\n",
        "    return self.lossFn(probs, labels)\n",
        "\n",
        "  def training_step(self, train, i):\n",
        "    x, mask, y = train\n",
        "    probs = self.forward(x, mask)\n",
        "    loss = self.loss(probs, y)\n",
        "    self.log('train_loss', loss)\n",
        "    self.all_train_loss.append(loss)\n",
        "    return loss\n",
        "\n",
        "  def validation_step(self, val, i):\n",
        "    x, mask, y = val\n",
        "    probs = self.forward(x, mask)\n",
        "    loss = self.loss(probs, y)\n",
        "    self.log('val_loss', loss)\n",
        "    self.all_dev_loss.append(loss)\n",
        "    return loss\n",
        "\n",
        "  def test_step(self, test, i):\n",
        "    x, mask, y = test\n",
        "    probs = self(x, mask)\n",
        "\n",
        "    self.all_pred.append(probs)\n",
        "    self.all_gt.append(y)\n",
        "\n",
        "    loss = self.loss(probs, y)\n",
        "    self.log('test_loss', loss)\n",
        "\n",
        "  def initialize_weights(self):\n",
        "    nn.init.xavier_uniform_(self.layer_1.weight)\n",
        "    nn.init.zeros_(self.layer_1.bias)\n",
        "\n",
        "\n",
        "  def configure_optimizers(self):\n",
        "      optimizer = torch.optim.Adam(self.parameters(), lr = self.lr)\n",
        "      scheduler = ReduceLROnPlateau(optimizer, mode='min', factor=0.1, patience=4, verbose=True)\n",
        "      return {\"optimizer\": optimizer, \"lr_scheduler\": scheduler, \"monitor\": \"val_loss\"}"
      ]
    },
    {
      "cell_type": "markdown",
      "metadata": {
        "id": "37vPn-Rz4jDo"
      },
      "source": [
        "#### Experimental protocol"
      ]
    },
    {
      "cell_type": "code",
      "execution_count": null,
      "metadata": {
        "id": "J-jpikWI4nSY"
      },
      "outputs": [],
      "source": [
        "def train(model, train_loader, dev_loader, trainer):\n",
        "  trainer.fit(model, train_loader, dev_loader)\n",
        "\n",
        "def benchmark(model, test_loader, trainer):\n",
        "  results = trainer.test(model, test_loader)\n",
        "  all_pred_test = np.concatenate([x.detach().cpu() for x in model.all_pred])\n",
        "  all_gt_test = np.concatenate([x.detach().cpu() for x in model.all_gt])\n",
        "  pred_labels = np.apply_along_axis(np.argmax, axis = 1, arr = all_pred_test)\n",
        "  return [pred_labels, classification_report(all_gt_test, pred_labels, output_dict = True)]\n",
        "\n",
        "def run_experiment(model, train_set, test_set, dev_set):\n",
        "  print('Importing model and tokenizer...')\n",
        "  bert_model = AutoModel.from_pretrained(model)\n",
        "  tokenizer = AutoTokenizer.from_pretrained(model)\n",
        "  device = torch.device(\"cuda\")\n",
        "  bert_model = bert_model.to(device)\n",
        "  print('Setting up data...')\n",
        "  train_dl, dev_dl, test_dl, weights = get_all_dataloaders(train_set, test_set, dev_set, tokenizer)\n",
        "  early_stopping = EarlyStopping(monitor='val_loss', patience=8, verbose=True, mode='min')\n",
        "  print('Setting up architecture...')\n",
        "  arch = SimplerReadabilityBertModel(bert_model, weights, 5e-5)\n",
        "  trainer = pl.Trainer(callbacks=[early_stopping],accelerator=\"gpu\", max_epochs = 10)\n",
        "  print('Training start')\n",
        "  train(arch, train_dl, dev_dl, trainer)\n",
        "  return benchmark(arch, test_dl, trainer)"
      ]
    },
    {
      "cell_type": "markdown",
      "metadata": {
        "id": "57Q4xQeM4pPS"
      },
      "source": [
        "## EXPERIMENTS"
      ]
    },
    {
      "cell_type": "code",
      "execution_count": null,
      "metadata": {
        "colab": {
          "base_uri": "https://localhost:8080/",
          "height": 538,
          "referenced_widgets": [
            "d8586f11b46342e1a9b81a1d4d549591",
            "559d484a35004ef8a5c3baeec066aaa2",
            "ec8aea39e6d4477ab3e3db121fa5990a",
            "32875a41820c4280b48edbdfb6c341b1",
            "7c31b0f9de344e189186395c7f0cdac1",
            "0f5b50a44b4a4ffbb83a5aa54874e512",
            "5bee66b0e53d49beb9652b7d3bd3d470",
            "40eddf64567845a18a77c84ee03a3dd5",
            "1c9416287075457b90767c3ea7ebf38b",
            "7e8b1388446e47bd913d00fd83bc9324",
            "2d0195dcb2004e1781913b58a0f5c54f",
            "4334736155bb4a718430de229420294d",
            "9d64b91a1d984274a5af2d9828d9016d",
            "8adeb6c218cd47c585a726fd5ff4ed81",
            "57ce00007b81478081cd87c234a34123",
            "0114005f4c5c4b1986152d7425ff6042",
            "250c71b2f8024c7a910a840f3c008642",
            "c71b666d9b7f464e9072f9c180e606a0",
            "8630849adae045729a4779ee1db609e5",
            "a30eca3c44034ec09492cc77f6bbb704",
            "2e2ff38e0ead4b7fa463607899ab674e",
            "32640ae2a0274bc4b3b79f5f7887a948"
          ]
        },
        "id": "VDV0eQAB4yBY",
        "outputId": "d7e228f5-cfba-46eb-e3bc-20717162e35e"
      },
      "outputs": [],
      "source": [
        "all_res = [run_experiment(camelbert_ca, train_levelled, test_levelled, dev_levelled),\n",
        "run_experiment(camelbert_msa, train_levelled, test_levelled, dev_levelled),\n",
        "run_experiment(camelbert_mix, train_levelled, test_levelled, dev_levelled)]\n",
        "\n",
        "class_reports = [r[1] for r in all_res]\n",
        "results = [r[0] for r in all_res]"
      ]
    },
    {
      "cell_type": "code",
      "execution_count": null,
      "metadata": {
        "id": "uKEtT8AkEP8o"
      },
      "outputs": [],
      "source": [
        "def results_to_csv(result_arr):\n",
        "  all_rows = []\n",
        "  for resu in result_arr:\n",
        "    inv_report = resu\n",
        "\n",
        "    arr_inv = np.concatenate([[inv_report[x]['f1-score'],\n",
        "            inv_report[x]['precision'],\n",
        "            inv_report[x]['recall'],] for x in ['0', '1', '2']])\n",
        "    arr_inv = np.append(arr_inv, inv_report['accuracy'])\n",
        "    arr_inv = np.append(arr_inv, inv_report['macro avg']['f1-score'])\n",
        "\n",
        "    all_rows.append(arr_inv)\n",
        "\n",
        "  return all_rows\n",
        "\n"
      ]
    },
    {
      "cell_type": "code",
      "execution_count": null,
      "metadata": {
        "id": "oDDQrayoMzts"
      },
      "outputs": [],
      "source": [
        "all_rows = results_to_csv(class_reports)"
      ]
    },
    {
      "cell_type": "code",
      "execution_count": null,
      "metadata": {
        "id": "9uRJ2T1HK0xd"
      },
      "outputs": [],
      "source": [
        "df_results = pd.DataFrame(all_rows, columns = ['f1_3','3_prec','3_recall','f1_4','4_prec','4_recall','f1_5','5_prec','5_recall','accuracy','f1_macro'])"
      ]
    },
    {
      "cell_type": "code",
      "execution_count": null,
      "metadata": {
        "id": "gHz4YXzwK2WS"
      },
      "outputs": [],
      "source": [
        "df_results"
      ]
    },
    {
      "cell_type": "code",
      "execution_count": null,
      "metadata": {
        "id": "nq1_sZ5-XFlY"
      },
      "outputs": [],
      "source": []
    }
  ],
  "metadata": {
    "accelerator": "GPU",
    "colab": {
      "gpuType": "T4",
      "machine_shape": "hm",
      "provenance": []
    },
    "kernelspec": {
      "display_name": "Python 3",
      "name": "python3"
    },
    "language_info": {
      "name": "python"
    },
    "widgets": {
      "application/vnd.jupyter.widget-state+json": {
        "0114005f4c5c4b1986152d7425ff6042": {
          "model_module": "@jupyter-widgets/base",
          "model_module_version": "1.2.0",
          "model_name": "LayoutModel",
          "state": {
            "_model_module": "@jupyter-widgets/base",
            "_model_module_version": "1.2.0",
            "_model_name": "LayoutModel",
            "_view_count": null,
            "_view_module": "@jupyter-widgets/base",
            "_view_module_version": "1.2.0",
            "_view_name": "LayoutView",
            "align_content": null,
            "align_items": null,
            "align_self": null,
            "border": null,
            "bottom": null,
            "display": "inline-flex",
            "flex": null,
            "flex_flow": "row wrap",
            "grid_area": null,
            "grid_auto_columns": null,
            "grid_auto_flow": null,
            "grid_auto_rows": null,
            "grid_column": null,
            "grid_gap": null,
            "grid_row": null,
            "grid_template_areas": null,
            "grid_template_columns": null,
            "grid_template_rows": null,
            "height": null,
            "justify_content": null,
            "justify_items": null,
            "left": null,
            "margin": null,
            "max_height": null,
            "max_width": null,
            "min_height": null,
            "min_width": null,
            "object_fit": null,
            "object_position": null,
            "order": null,
            "overflow": null,
            "overflow_x": null,
            "overflow_y": null,
            "padding": null,
            "right": null,
            "top": null,
            "visibility": null,
            "width": "100%"
          }
        },
        "0f5b50a44b4a4ffbb83a5aa54874e512": {
          "model_module": "@jupyter-widgets/base",
          "model_module_version": "1.2.0",
          "model_name": "LayoutModel",
          "state": {
            "_model_module": "@jupyter-widgets/base",
            "_model_module_version": "1.2.0",
            "_model_name": "LayoutModel",
            "_view_count": null,
            "_view_module": "@jupyter-widgets/base",
            "_view_module_version": "1.2.0",
            "_view_name": "LayoutView",
            "align_content": null,
            "align_items": null,
            "align_self": null,
            "border": null,
            "bottom": null,
            "display": null,
            "flex": null,
            "flex_flow": null,
            "grid_area": null,
            "grid_auto_columns": null,
            "grid_auto_flow": null,
            "grid_auto_rows": null,
            "grid_column": null,
            "grid_gap": null,
            "grid_row": null,
            "grid_template_areas": null,
            "grid_template_columns": null,
            "grid_template_rows": null,
            "height": null,
            "justify_content": null,
            "justify_items": null,
            "left": null,
            "margin": null,
            "max_height": null,
            "max_width": null,
            "min_height": null,
            "min_width": null,
            "object_fit": null,
            "object_position": null,
            "order": null,
            "overflow": null,
            "overflow_x": null,
            "overflow_y": null,
            "padding": null,
            "right": null,
            "top": null,
            "visibility": null,
            "width": null
          }
        },
        "1c9416287075457b90767c3ea7ebf38b": {
          "model_module": "@jupyter-widgets/controls",
          "model_module_version": "1.5.0",
          "model_name": "ProgressStyleModel",
          "state": {
            "_model_module": "@jupyter-widgets/controls",
            "_model_module_version": "1.5.0",
            "_model_name": "ProgressStyleModel",
            "_view_count": null,
            "_view_module": "@jupyter-widgets/base",
            "_view_module_version": "1.2.0",
            "_view_name": "StyleView",
            "bar_color": null,
            "description_width": ""
          }
        },
        "250c71b2f8024c7a910a840f3c008642": {
          "model_module": "@jupyter-widgets/base",
          "model_module_version": "1.2.0",
          "model_name": "LayoutModel",
          "state": {
            "_model_module": "@jupyter-widgets/base",
            "_model_module_version": "1.2.0",
            "_model_name": "LayoutModel",
            "_view_count": null,
            "_view_module": "@jupyter-widgets/base",
            "_view_module_version": "1.2.0",
            "_view_name": "LayoutView",
            "align_content": null,
            "align_items": null,
            "align_self": null,
            "border": null,
            "bottom": null,
            "display": null,
            "flex": null,
            "flex_flow": null,
            "grid_area": null,
            "grid_auto_columns": null,
            "grid_auto_flow": null,
            "grid_auto_rows": null,
            "grid_column": null,
            "grid_gap": null,
            "grid_row": null,
            "grid_template_areas": null,
            "grid_template_columns": null,
            "grid_template_rows": null,
            "height": null,
            "justify_content": null,
            "justify_items": null,
            "left": null,
            "margin": null,
            "max_height": null,
            "max_width": null,
            "min_height": null,
            "min_width": null,
            "object_fit": null,
            "object_position": null,
            "order": null,
            "overflow": null,
            "overflow_x": null,
            "overflow_y": null,
            "padding": null,
            "right": null,
            "top": null,
            "visibility": null,
            "width": null
          }
        },
        "2d0195dcb2004e1781913b58a0f5c54f": {
          "model_module": "@jupyter-widgets/controls",
          "model_module_version": "1.5.0",
          "model_name": "DescriptionStyleModel",
          "state": {
            "_model_module": "@jupyter-widgets/controls",
            "_model_module_version": "1.5.0",
            "_model_name": "DescriptionStyleModel",
            "_view_count": null,
            "_view_module": "@jupyter-widgets/base",
            "_view_module_version": "1.2.0",
            "_view_name": "StyleView",
            "description_width": ""
          }
        },
        "2e2ff38e0ead4b7fa463607899ab674e": {
          "model_module": "@jupyter-widgets/base",
          "model_module_version": "1.2.0",
          "model_name": "LayoutModel",
          "state": {
            "_model_module": "@jupyter-widgets/base",
            "_model_module_version": "1.2.0",
            "_model_name": "LayoutModel",
            "_view_count": null,
            "_view_module": "@jupyter-widgets/base",
            "_view_module_version": "1.2.0",
            "_view_name": "LayoutView",
            "align_content": null,
            "align_items": null,
            "align_self": null,
            "border": null,
            "bottom": null,
            "display": null,
            "flex": null,
            "flex_flow": null,
            "grid_area": null,
            "grid_auto_columns": null,
            "grid_auto_flow": null,
            "grid_auto_rows": null,
            "grid_column": null,
            "grid_gap": null,
            "grid_row": null,
            "grid_template_areas": null,
            "grid_template_columns": null,
            "grid_template_rows": null,
            "height": null,
            "justify_content": null,
            "justify_items": null,
            "left": null,
            "margin": null,
            "max_height": null,
            "max_width": null,
            "min_height": null,
            "min_width": null,
            "object_fit": null,
            "object_position": null,
            "order": null,
            "overflow": null,
            "overflow_x": null,
            "overflow_y": null,
            "padding": null,
            "right": null,
            "top": null,
            "visibility": null,
            "width": null
          }
        },
        "32640ae2a0274bc4b3b79f5f7887a948": {
          "model_module": "@jupyter-widgets/controls",
          "model_module_version": "1.5.0",
          "model_name": "DescriptionStyleModel",
          "state": {
            "_model_module": "@jupyter-widgets/controls",
            "_model_module_version": "1.5.0",
            "_model_name": "DescriptionStyleModel",
            "_view_count": null,
            "_view_module": "@jupyter-widgets/base",
            "_view_module_version": "1.2.0",
            "_view_name": "StyleView",
            "description_width": ""
          }
        },
        "32875a41820c4280b48edbdfb6c341b1": {
          "model_module": "@jupyter-widgets/controls",
          "model_module_version": "1.5.0",
          "model_name": "HTMLModel",
          "state": {
            "_dom_classes": [],
            "_model_module": "@jupyter-widgets/controls",
            "_model_module_version": "1.5.0",
            "_model_name": "HTMLModel",
            "_view_count": null,
            "_view_module": "@jupyter-widgets/controls",
            "_view_module_version": "1.5.0",
            "_view_name": "HTMLView",
            "description": "",
            "description_tooltip": null,
            "layout": "IPY_MODEL_7e8b1388446e47bd913d00fd83bc9324",
            "placeholder": "​",
            "style": "IPY_MODEL_2d0195dcb2004e1781913b58a0f5c54f",
            "value": " 2/2 [00:00&lt;00:00, 30.84it/s]"
          }
        },
        "40eddf64567845a18a77c84ee03a3dd5": {
          "model_module": "@jupyter-widgets/base",
          "model_module_version": "1.2.0",
          "model_name": "LayoutModel",
          "state": {
            "_model_module": "@jupyter-widgets/base",
            "_model_module_version": "1.2.0",
            "_model_name": "LayoutModel",
            "_view_count": null,
            "_view_module": "@jupyter-widgets/base",
            "_view_module_version": "1.2.0",
            "_view_name": "LayoutView",
            "align_content": null,
            "align_items": null,
            "align_self": null,
            "border": null,
            "bottom": null,
            "display": null,
            "flex": "2",
            "flex_flow": null,
            "grid_area": null,
            "grid_auto_columns": null,
            "grid_auto_flow": null,
            "grid_auto_rows": null,
            "grid_column": null,
            "grid_gap": null,
            "grid_row": null,
            "grid_template_areas": null,
            "grid_template_columns": null,
            "grid_template_rows": null,
            "height": null,
            "justify_content": null,
            "justify_items": null,
            "left": null,
            "margin": null,
            "max_height": null,
            "max_width": null,
            "min_height": null,
            "min_width": null,
            "object_fit": null,
            "object_position": null,
            "order": null,
            "overflow": null,
            "overflow_x": null,
            "overflow_y": null,
            "padding": null,
            "right": null,
            "top": null,
            "visibility": null,
            "width": null
          }
        },
        "4334736155bb4a718430de229420294d": {
          "model_module": "@jupyter-widgets/controls",
          "model_module_version": "1.5.0",
          "model_name": "HBoxModel",
          "state": {
            "_dom_classes": [],
            "_model_module": "@jupyter-widgets/controls",
            "_model_module_version": "1.5.0",
            "_model_name": "HBoxModel",
            "_view_count": null,
            "_view_module": "@jupyter-widgets/controls",
            "_view_module_version": "1.5.0",
            "_view_name": "HBoxView",
            "box_style": "",
            "children": [
              "IPY_MODEL_9d64b91a1d984274a5af2d9828d9016d",
              "IPY_MODEL_8adeb6c218cd47c585a726fd5ff4ed81",
              "IPY_MODEL_57ce00007b81478081cd87c234a34123"
            ],
            "layout": "IPY_MODEL_0114005f4c5c4b1986152d7425ff6042"
          }
        },
        "559d484a35004ef8a5c3baeec066aaa2": {
          "model_module": "@jupyter-widgets/controls",
          "model_module_version": "1.5.0",
          "model_name": "HTMLModel",
          "state": {
            "_dom_classes": [],
            "_model_module": "@jupyter-widgets/controls",
            "_model_module_version": "1.5.0",
            "_model_name": "HTMLModel",
            "_view_count": null,
            "_view_module": "@jupyter-widgets/controls",
            "_view_module_version": "1.5.0",
            "_view_name": "HTMLView",
            "description": "",
            "description_tooltip": null,
            "layout": "IPY_MODEL_0f5b50a44b4a4ffbb83a5aa54874e512",
            "placeholder": "​",
            "style": "IPY_MODEL_5bee66b0e53d49beb9652b7d3bd3d470",
            "value": "Sanity Checking DataLoader 0: 100%"
          }
        },
        "57ce00007b81478081cd87c234a34123": {
          "model_module": "@jupyter-widgets/controls",
          "model_module_version": "1.5.0",
          "model_name": "HTMLModel",
          "state": {
            "_dom_classes": [],
            "_model_module": "@jupyter-widgets/controls",
            "_model_module_version": "1.5.0",
            "_model_name": "HTMLModel",
            "_view_count": null,
            "_view_module": "@jupyter-widgets/controls",
            "_view_module_version": "1.5.0",
            "_view_name": "HTMLView",
            "description": "",
            "description_tooltip": null,
            "layout": "IPY_MODEL_2e2ff38e0ead4b7fa463607899ab674e",
            "placeholder": "​",
            "style": "IPY_MODEL_32640ae2a0274bc4b3b79f5f7887a948",
            "value": " 0/767 [00:00&lt;?, ?it/s]"
          }
        },
        "5bee66b0e53d49beb9652b7d3bd3d470": {
          "model_module": "@jupyter-widgets/controls",
          "model_module_version": "1.5.0",
          "model_name": "DescriptionStyleModel",
          "state": {
            "_model_module": "@jupyter-widgets/controls",
            "_model_module_version": "1.5.0",
            "_model_name": "DescriptionStyleModel",
            "_view_count": null,
            "_view_module": "@jupyter-widgets/base",
            "_view_module_version": "1.2.0",
            "_view_name": "StyleView",
            "description_width": ""
          }
        },
        "7c31b0f9de344e189186395c7f0cdac1": {
          "model_module": "@jupyter-widgets/base",
          "model_module_version": "1.2.0",
          "model_name": "LayoutModel",
          "state": {
            "_model_module": "@jupyter-widgets/base",
            "_model_module_version": "1.2.0",
            "_model_name": "LayoutModel",
            "_view_count": null,
            "_view_module": "@jupyter-widgets/base",
            "_view_module_version": "1.2.0",
            "_view_name": "LayoutView",
            "align_content": null,
            "align_items": null,
            "align_self": null,
            "border": null,
            "bottom": null,
            "display": "inline-flex",
            "flex": null,
            "flex_flow": "row wrap",
            "grid_area": null,
            "grid_auto_columns": null,
            "grid_auto_flow": null,
            "grid_auto_rows": null,
            "grid_column": null,
            "grid_gap": null,
            "grid_row": null,
            "grid_template_areas": null,
            "grid_template_columns": null,
            "grid_template_rows": null,
            "height": null,
            "justify_content": null,
            "justify_items": null,
            "left": null,
            "margin": null,
            "max_height": null,
            "max_width": null,
            "min_height": null,
            "min_width": null,
            "object_fit": null,
            "object_position": null,
            "order": null,
            "overflow": null,
            "overflow_x": null,
            "overflow_y": null,
            "padding": null,
            "right": null,
            "top": null,
            "visibility": "hidden",
            "width": "100%"
          }
        },
        "7e8b1388446e47bd913d00fd83bc9324": {
          "model_module": "@jupyter-widgets/base",
          "model_module_version": "1.2.0",
          "model_name": "LayoutModel",
          "state": {
            "_model_module": "@jupyter-widgets/base",
            "_model_module_version": "1.2.0",
            "_model_name": "LayoutModel",
            "_view_count": null,
            "_view_module": "@jupyter-widgets/base",
            "_view_module_version": "1.2.0",
            "_view_name": "LayoutView",
            "align_content": null,
            "align_items": null,
            "align_self": null,
            "border": null,
            "bottom": null,
            "display": null,
            "flex": null,
            "flex_flow": null,
            "grid_area": null,
            "grid_auto_columns": null,
            "grid_auto_flow": null,
            "grid_auto_rows": null,
            "grid_column": null,
            "grid_gap": null,
            "grid_row": null,
            "grid_template_areas": null,
            "grid_template_columns": null,
            "grid_template_rows": null,
            "height": null,
            "justify_content": null,
            "justify_items": null,
            "left": null,
            "margin": null,
            "max_height": null,
            "max_width": null,
            "min_height": null,
            "min_width": null,
            "object_fit": null,
            "object_position": null,
            "order": null,
            "overflow": null,
            "overflow_x": null,
            "overflow_y": null,
            "padding": null,
            "right": null,
            "top": null,
            "visibility": null,
            "width": null
          }
        },
        "8630849adae045729a4779ee1db609e5": {
          "model_module": "@jupyter-widgets/base",
          "model_module_version": "1.2.0",
          "model_name": "LayoutModel",
          "state": {
            "_model_module": "@jupyter-widgets/base",
            "_model_module_version": "1.2.0",
            "_model_name": "LayoutModel",
            "_view_count": null,
            "_view_module": "@jupyter-widgets/base",
            "_view_module_version": "1.2.0",
            "_view_name": "LayoutView",
            "align_content": null,
            "align_items": null,
            "align_self": null,
            "border": null,
            "bottom": null,
            "display": null,
            "flex": "2",
            "flex_flow": null,
            "grid_area": null,
            "grid_auto_columns": null,
            "grid_auto_flow": null,
            "grid_auto_rows": null,
            "grid_column": null,
            "grid_gap": null,
            "grid_row": null,
            "grid_template_areas": null,
            "grid_template_columns": null,
            "grid_template_rows": null,
            "height": null,
            "justify_content": null,
            "justify_items": null,
            "left": null,
            "margin": null,
            "max_height": null,
            "max_width": null,
            "min_height": null,
            "min_width": null,
            "object_fit": null,
            "object_position": null,
            "order": null,
            "overflow": null,
            "overflow_x": null,
            "overflow_y": null,
            "padding": null,
            "right": null,
            "top": null,
            "visibility": null,
            "width": null
          }
        },
        "8adeb6c218cd47c585a726fd5ff4ed81": {
          "model_module": "@jupyter-widgets/controls",
          "model_module_version": "1.5.0",
          "model_name": "FloatProgressModel",
          "state": {
            "_dom_classes": [],
            "_model_module": "@jupyter-widgets/controls",
            "_model_module_version": "1.5.0",
            "_model_name": "FloatProgressModel",
            "_view_count": null,
            "_view_module": "@jupyter-widgets/controls",
            "_view_module_version": "1.5.0",
            "_view_name": "ProgressView",
            "bar_style": "",
            "description": "",
            "description_tooltip": null,
            "layout": "IPY_MODEL_8630849adae045729a4779ee1db609e5",
            "max": 767,
            "min": 0,
            "orientation": "horizontal",
            "style": "IPY_MODEL_a30eca3c44034ec09492cc77f6bbb704",
            "value": 0
          }
        },
        "9d64b91a1d984274a5af2d9828d9016d": {
          "model_module": "@jupyter-widgets/controls",
          "model_module_version": "1.5.0",
          "model_name": "HTMLModel",
          "state": {
            "_dom_classes": [],
            "_model_module": "@jupyter-widgets/controls",
            "_model_module_version": "1.5.0",
            "_model_name": "HTMLModel",
            "_view_count": null,
            "_view_module": "@jupyter-widgets/controls",
            "_view_module_version": "1.5.0",
            "_view_name": "HTMLView",
            "description": "",
            "description_tooltip": null,
            "layout": "IPY_MODEL_250c71b2f8024c7a910a840f3c008642",
            "placeholder": "​",
            "style": "IPY_MODEL_c71b666d9b7f464e9072f9c180e606a0",
            "value": "Epoch 0:   0%"
          }
        },
        "a30eca3c44034ec09492cc77f6bbb704": {
          "model_module": "@jupyter-widgets/controls",
          "model_module_version": "1.5.0",
          "model_name": "ProgressStyleModel",
          "state": {
            "_model_module": "@jupyter-widgets/controls",
            "_model_module_version": "1.5.0",
            "_model_name": "ProgressStyleModel",
            "_view_count": null,
            "_view_module": "@jupyter-widgets/base",
            "_view_module_version": "1.2.0",
            "_view_name": "StyleView",
            "bar_color": null,
            "description_width": ""
          }
        },
        "c71b666d9b7f464e9072f9c180e606a0": {
          "model_module": "@jupyter-widgets/controls",
          "model_module_version": "1.5.0",
          "model_name": "DescriptionStyleModel",
          "state": {
            "_model_module": "@jupyter-widgets/controls",
            "_model_module_version": "1.5.0",
            "_model_name": "DescriptionStyleModel",
            "_view_count": null,
            "_view_module": "@jupyter-widgets/base",
            "_view_module_version": "1.2.0",
            "_view_name": "StyleView",
            "description_width": ""
          }
        },
        "d8586f11b46342e1a9b81a1d4d549591": {
          "model_module": "@jupyter-widgets/controls",
          "model_module_version": "1.5.0",
          "model_name": "HBoxModel",
          "state": {
            "_dom_classes": [],
            "_model_module": "@jupyter-widgets/controls",
            "_model_module_version": "1.5.0",
            "_model_name": "HBoxModel",
            "_view_count": null,
            "_view_module": "@jupyter-widgets/controls",
            "_view_module_version": "1.5.0",
            "_view_name": "HBoxView",
            "box_style": "",
            "children": [
              "IPY_MODEL_559d484a35004ef8a5c3baeec066aaa2",
              "IPY_MODEL_ec8aea39e6d4477ab3e3db121fa5990a",
              "IPY_MODEL_32875a41820c4280b48edbdfb6c341b1"
            ],
            "layout": "IPY_MODEL_7c31b0f9de344e189186395c7f0cdac1"
          }
        },
        "ec8aea39e6d4477ab3e3db121fa5990a": {
          "model_module": "@jupyter-widgets/controls",
          "model_module_version": "1.5.0",
          "model_name": "FloatProgressModel",
          "state": {
            "_dom_classes": [],
            "_model_module": "@jupyter-widgets/controls",
            "_model_module_version": "1.5.0",
            "_model_name": "FloatProgressModel",
            "_view_count": null,
            "_view_module": "@jupyter-widgets/controls",
            "_view_module_version": "1.5.0",
            "_view_name": "ProgressView",
            "bar_style": "",
            "description": "",
            "description_tooltip": null,
            "layout": "IPY_MODEL_40eddf64567845a18a77c84ee03a3dd5",
            "max": 2,
            "min": 0,
            "orientation": "horizontal",
            "style": "IPY_MODEL_1c9416287075457b90767c3ea7ebf38b",
            "value": 2
          }
        }
      }
    }
  },
  "nbformat": 4,
  "nbformat_minor": 0
}
